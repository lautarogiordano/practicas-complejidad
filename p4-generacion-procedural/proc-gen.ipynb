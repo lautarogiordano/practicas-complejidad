{
 "cells": [
  {
   "cell_type": "markdown",
   "metadata": {},
   "source": [
    "### Complejidad - Práctico 4/6 - Generación procedural de terrenos\n",
    "#### Lautaro Giordano"
   ]
  },
  {
   "cell_type": "code",
   "execution_count": 3,
   "metadata": {},
   "outputs": [],
   "source": [
    "import numpy as np\n",
    "from matplotlib import pyplot as plt"
   ]
  },
  {
   "cell_type": "code",
   "execution_count": 63,
   "metadata": {},
   "outputs": [
    {
     "name": "stderr",
     "output_type": "stream",
     "text": [
      "C:\\Users\\Lautaro\\AppData\\Local\\Temp\\ipykernel_6156\\2499416126.py:34: UserWarning: FigureCanvasAgg is non-interactive, and thus cannot be shown\n",
      "  fig.show()\n"
     ]
    },
    {
     "data": {
      "image/png": "[encoded data removed]",
      "text/plain": [
       "<Figure size 640x480 with 1 Axes>"
      ]
     },
     "metadata": {},
     "output_type": "display_data"
    },
    {
     "data": {
      "image/png": "[encoded data removed]",
      "text/plain": [
       "<Figure size 640x480 with 1 Axes>"
      ]
     },
     "metadata": {},
     "output_type": "display_data"
    }
   ],
   "source": [
    "width, height = 80, 100\n",
    "\n",
    "class cueva:\n",
    "    def __init__(self, width, height, prob_pared, seed=None):\n",
    "        self.width = width\n",
    "        self.height = height\n",
    "        self.prob_pared = prob_pared\n",
    "        # El default es seed=None que me da una semilla aleatoria.\n",
    "        self.seed = seed\n",
    "        np.random.seed(self.seed)\n",
    "        self.cueva = self.generar_cueva()\n",
    "        # self.bordes = self.calcular_bordes()\n",
    "    \n",
    "\n",
    "    def generar_cueva(self):\n",
    "        cueva = np.ones((self.width, self.height))\n",
    "\n",
    "        # Los bordes siempre son unos (paredes).\n",
    "        for i in range(1, self.width - 1):\n",
    "            for j in range(1, self.height - 1):\n",
    "                cueva[i][j] = 1 if np.random.random() < self.prob_pared else 0\n",
    "        \n",
    "        return cueva\n",
    "       \n",
    "\n",
    "    def plot_cueva(self):\n",
    "        fig, ax = plt.subplots()\n",
    "        ax.imshow(self.cueva, cmap='binary')\n",
    "        # if bordes:\n",
    "        #     self.bordes = self.calcular_bordes()\n",
    "        #     ax.imshow(self.bordes, cmap='Greys')\n",
    "        # Apago los ejes\n",
    "        ax.axis('off')\n",
    "        fig.show()\n",
    "\n",
    "\n",
    "    def paso_suavizar_cueva(self):\n",
    "        cueva = self.cueva.copy()\n",
    "        # No miro los bordes\n",
    "        for i in range(1, self.width - 1):\n",
    "            for j in range(1, self.height - 1):\n",
    "                # Miro a primeros vecinos de una celda\n",
    "                vecindad = cueva[i-1:i+2, j-1:j+2]\n",
    "                # Si hay más de 5 celdas con pared, pongo una pared (regla del automata)\n",
    "                if np.sum(vecindad) >= 5:\n",
    "                    self.cueva[i][j] = 1\n",
    "                # Si hay menos de 3 celdas con pared, pongo un espacio vacío\n",
    "                elif np.sum(vecindad) <= 3:\n",
    "                    self.cueva[i][j] = 0\n",
    "\n",
    "\n",
    "    def suavizar_cueva(self, n_its=5):\n",
    "        for _ in range(n_its):\n",
    "            self.paso_suavizar_cueva()\n",
    "\n",
    "\n",
    "\n",
    "cueva = cueva(width, height, 0.4, seed=None)\n",
    "cueva.plot_cueva()\n",
    "cueva.suavizar_cueva(5)\n",
    "cueva.plot_cueva()"
   ]
  }
 ],
 "metadata": {
  "kernelspec": {
   "display_name": "abm",
   "language": "python",
   "name": "python3"
  },
  "language_info": {
   "codemirror_mode": {
    "name": "ipython",
    "version": 3
   },
   "file_extension": ".py",
   "mimetype": "text/x-python",
   "name": "python",
   "nbconvert_exporter": "python",
   "pygments_lexer": "ipython3",
   "version": "3.11.5"
  }
 },
 "nbformat": 4,
 "nbformat_minor": 2
}
